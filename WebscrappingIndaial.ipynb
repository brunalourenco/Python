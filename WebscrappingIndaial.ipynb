{
 "cells": [
  {
   "cell_type": "markdown",
   "id": "5236094a",
   "metadata": {},
   "source": [
    "<center><img width=\"70%\" src=\"logo.png\"></center>"
   ]
  },
  {
   "cell_type": "markdown",
   "id": "b348a074",
   "metadata": {},
   "source": [
    "# **Projeto Observatório Social - Prefeitura Municipal de Indaial / SC**\n",
    "### <font color='#DC143C'> *Webcrapping com Python | Criação e Alimentação de DW*\n",
    "*by [JOVIANO SILVEIRA](https://www.joviano.com)*\n",
    "\n",
    "---"
   ]
  },
  {
   "cell_type": "markdown",
   "id": "f4a622b3",
   "metadata": {},
   "source": [
    "# <font color=green> 1. BIBLIOTECAS E FUNÇÕES"
   ]
  },
  {
   "cell_type": "code",
   "execution_count": 1,
   "id": "2f689ea1",
   "metadata": {},
   "outputs": [],
   "source": [
    "# Importando bibliotecas\n",
    "\n",
    "import time\n",
    "import pandas as pd\n",
    "\n",
    "from urllib.error import URLError, HTTPError\n",
    "from urllib.request import Request, urlopen\n",
    "\n",
    "import bs4\n",
    "\n",
    "\n",
    "import warnings   \n",
    "warnings.filterwarnings('ignore')"
   ]
  },
  {
   "cell_type": "code",
   "execution_count": 2,
   "id": "7523d094",
   "metadata": {},
   "outputs": [],
   "source": [
    "# Informando o AGENTE\n",
    "# Para encontrá-lo, abra o site, aperte F12,Clique emNetwork/Clique no link do site/ no canto direito procure user-agent\n",
    "\n",
    "agente = \"Mozilla/5.0 (Windows NT 10.0; Win64; x64) AppleWebKit/537.36 (KHTML, like Gecko) Chrome/91.0.4472.124 Safari/537.36\"\n",
    "headers = {'User-Agent': agente}"
   ]
  },
  {
   "cell_type": "code",
   "execution_count": 3,
   "id": "0ff8bc64",
   "metadata": {},
   "outputs": [],
   "source": [
    "# Função para chamar a página WEB\n",
    "\n",
    "def ConsultaWebB(url):\n",
    "    try:\n",
    "        req = Request(url, headers = headers)\n",
    "        response = urlopen(req)\n",
    "        return response.read()\n",
    "\n",
    "    except:\n",
    "        pass"
   ]
  },
  {
   "cell_type": "code",
   "execution_count": 4,
   "id": "39c0eae9",
   "metadata": {},
   "outputs": [],
   "source": [
    "# Função para pegar a página encontrada e transformar em um objeto utilizável\n",
    "\n",
    "def captura_html_pagina(url):\n",
    "    html = ConsultaWebB(url)\n",
    "    soup = bs4.BeautifulSoup(html, 'html.parser')    \n",
    "    return soup"
   ]
  },
  {
   "cell_type": "code",
   "execution_count": 5,
   "id": "a5c23a98",
   "metadata": {},
   "outputs": [],
   "source": [
    "# Função para capturar as informações da \"tabelinha cabeçalho\" da página e guardar numa variável dicionários \n",
    "\n",
    "def Cabecalho(html):\n",
    "    dt = html.find_all('dt')\n",
    "    dd = html.find_all('dd')\n",
    "    dic = {}\n",
    "    for i in range(len(dt)):\n",
    "        x = dt[i].get_text()\n",
    "        y = dd[i].get_text() \n",
    "        dic[x] = y\n",
    "    return dic"
   ]
  },
  {
   "cell_type": "code",
   "execution_count": 6,
   "id": "13e47b8b",
   "metadata": {},
   "outputs": [],
   "source": [
    "# Funçao para capturar o conteúdo da página e transformar em um dicionário\n",
    "\n",
    "def Conteudo(proposicao, ano):\n",
    "    url = 'https://www.legislador.com.br//LegisladorWEB.ASP?WCI=ProposicaoTexto&ID=3&TPProposicao=1&nrProposicao='+str(proposicao)+'&aaProposicao='+str(ano)\n",
    "    html = captura_html_pagina(url)\n",
    "    dic = Cabecalho(html)\n",
    "    dic['Proposição'] = proposicao\n",
    "    dic['Ano'] = ano\n",
    "    dic['Texto'] = html.p.get_text()\n",
    "    return dic"
   ]
  },
  {
   "cell_type": "code",
   "execution_count": 7,
   "id": "2e1c0fc3",
   "metadata": {},
   "outputs": [],
   "source": [
    "def TabelaResultados(inicar_em, quantidade, ano, erros_admissiveis, segundos_espera):\n",
    "\n",
    "    ultima_consulta = inicar_em + quantidade - 1\n",
    "\n",
    "    # erros\n",
    "    erros = 0\n",
    "\n",
    "    # variaveis para loop\n",
    "    i = 1\n",
    "    lista = []\n",
    "\n",
    "    while inicar_em <= ultima_consulta and erros <= erros_admissiveis:\n",
    "\n",
    "        try:\n",
    "            x = Conteudo(inicar_em,ano)\n",
    "            lista = lista + [Conteudo(inicar_em,ano)]\n",
    "        except:\n",
    "            erros += 1\n",
    "            pass\n",
    "\n",
    "        time.sleep(segundos_espera)\n",
    "\n",
    "        # carregamento incremental das variáveis\n",
    "        inicar_em+=1 \n",
    "        i+=1\n",
    "\n",
    "\n",
    "    return pd.DataFrame(lista)"
   ]
  },
  {
   "cell_type": "code",
   "execution_count": 8,
   "id": "20ade052",
   "metadata": {
    "scrolled": false
   },
   "outputs": [
    {
     "data": {
      "text/html": [
       "<div>\n",
       "<style scoped>\n",
       "    .dataframe tbody tr th:only-of-type {\n",
       "        vertical-align: middle;\n",
       "    }\n",
       "\n",
       "    .dataframe tbody tr th {\n",
       "        vertical-align: top;\n",
       "    }\n",
       "\n",
       "    .dataframe thead th {\n",
       "        text-align: right;\n",
       "    }\n",
       "</style>\n",
       "<table border=\"1\" class=\"dataframe\">\n",
       "  <thead>\n",
       "    <tr style=\"text-align: right;\">\n",
       "      <th></th>\n",
       "      <th>Reunião</th>\n",
       "      <th>Deliberação</th>\n",
       "      <th>Situação</th>\n",
       "      <th>Assunto</th>\n",
       "      <th>Autor</th>\n",
       "      <th>Proposição</th>\n",
       "      <th>Ano</th>\n",
       "      <th>Texto</th>\n",
       "    </tr>\n",
       "  </thead>\n",
       "  <tbody>\n",
       "    <tr>\n",
       "      <th>0</th>\n",
       "      <td>08/04/2021</td>\n",
       "      <td>08/04/2021</td>\n",
       "      <td>Proposição Aprovada</td>\n",
       "      <td>Limpeza, Macadamização, Patrolamento, Retifica...</td>\n",
       "      <td>Vereador Flávio Augusto Ferri Molinari.</td>\n",
       "      <td>500</td>\n",
       "      <td>2021</td>\n",
       "      <td>O vereador que está subscreve, no uso das atri...</td>\n",
       "    </tr>\n",
       "    <tr>\n",
       "      <th>1</th>\n",
       "      <td>08/04/2021</td>\n",
       "      <td>08/04/2021</td>\n",
       "      <td>Proposição Aprovada</td>\n",
       "      <td>Pontes, Bueiros, boca de lobo</td>\n",
       "      <td>Vereador Flávio Augusto Ferri Molinari.</td>\n",
       "      <td>501</td>\n",
       "      <td>2021</td>\n",
       "      <td>O vereador que está subscreve, no uso das atri...</td>\n",
       "    </tr>\n",
       "    <tr>\n",
       "      <th>2</th>\n",
       "      <td>08/04/2021</td>\n",
       "      <td>08/04/2021</td>\n",
       "      <td>Proposição Aprovada</td>\n",
       "      <td>Manutenção de via pública</td>\n",
       "      <td>Vereador Fernanda dos Santos.</td>\n",
       "      <td>502</td>\n",
       "      <td>2021</td>\n",
       "      <td>A vereadora que esta subscreve, no uso das atr...</td>\n",
       "    </tr>\n",
       "  </tbody>\n",
       "</table>\n",
       "</div>"
      ],
      "text/plain": [
       "      Reunião Deliberação             Situação  \\\n",
       "0  08/04/2021  08/04/2021  Proposição Aprovada   \n",
       "1  08/04/2021  08/04/2021  Proposição Aprovada   \n",
       "2  08/04/2021  08/04/2021  Proposição Aprovada   \n",
       "\n",
       "                                             Assunto  \\\n",
       "0  Limpeza, Macadamização, Patrolamento, Retifica...   \n",
       "1                      Pontes, Bueiros, boca de lobo   \n",
       "2                          Manutenção de via pública   \n",
       "\n",
       "                                     Autor  Proposição   Ano  \\\n",
       "0  Vereador Flávio Augusto Ferri Molinari.         500  2021   \n",
       "1  Vereador Flávio Augusto Ferri Molinari.         501  2021   \n",
       "2            Vereador Fernanda dos Santos.         502  2021   \n",
       "\n",
       "                                               Texto  \n",
       "0  O vereador que está subscreve, no uso das atri...  \n",
       "1  O vereador que está subscreve, no uso das atri...  \n",
       "2  A vereadora que esta subscreve, no uso das atr...  "
      ]
     },
     "execution_count": 8,
     "metadata": {},
     "output_type": "execute_result"
    }
   ],
   "source": [
    "# Verificando se as informações estam sendo buscadas e adicionadas \n",
    "teste = TabelaResultados(500,3,2021,2,0.2)\n",
    "teste"
   ]
  },
  {
   "cell_type": "markdown",
   "id": "2fb9e159",
   "metadata": {},
   "source": [
    "# <font color=green> 2. Listas"
   ]
  },
  {
   "cell_type": "code",
   "execution_count": 9,
   "id": "f0248a36",
   "metadata": {},
   "outputs": [
    {
     "data": {
      "text/plain": [
       "['Reunião',\n",
       " 'Deliberação',\n",
       " 'Situação',\n",
       " 'Assunto',\n",
       " 'Autor',\n",
       " 'Proposição',\n",
       " 'Ano',\n",
       " 'Texto']"
      ]
     },
     "execution_count": 9,
     "metadata": {},
     "output_type": "execute_result"
    }
   ],
   "source": [
    "# Lista com nome de colunas\n",
    "list(teste.columns)"
   ]
  },
  {
   "cell_type": "code",
   "execution_count": 10,
   "id": "9ef8da1f",
   "metadata": {},
   "outputs": [
    {
     "data": {
      "text/plain": [
       "Reunião        object\n",
       "Deliberação    object\n",
       "Situação       object\n",
       "Assunto        object\n",
       "Autor          object\n",
       "Proposição      int64\n",
       "Ano             int64\n",
       "Texto          object\n",
       "dtype: object"
      ]
     },
     "execution_count": 10,
     "metadata": {},
     "output_type": "execute_result"
    }
   ],
   "source": [
    "# Lista com tipos de dados, interessante para verificar o tipo de dados \n",
    "# para criar a tabela\n",
    "teste.dtypes"
   ]
  },
  {
   "cell_type": "markdown",
   "id": "00a31ea7",
   "metadata": {},
   "source": [
    "# <font color=green> 3. BANCO DE DADOS E TABELAS"
   ]
  },
  {
   "cell_type": "markdown",
   "id": "77c5c29a",
   "metadata": {},
   "source": [
    ">Cria-se o banco de dados, deixar autenticação do Windows e criar a tabela"
   ]
  },
  {
   "cell_type": "markdown",
   "id": "ae6a8a14",
   "metadata": {},
   "source": [
    "Para crie o banco de dados no SSMS, feito isso feche e abra o SSMS novamente para o SGBD reconhecer os campos criados."
   ]
  },
  {
   "cell_type": "markdown",
   "id": "a5af68f5",
   "metadata": {},
   "source": [
    "Comando para criar Banco de dados e tabela\n",
    "\n",
    "```sql\n",
    "CREATE DATABASE Indaial2;\n",
    "\n",
    "USE Indaial2;\n",
    "\n",
    "CREATE TABLE Proposicoes (\n",
    "\n",
    "\tDataReuniao DATE,\n",
    "\tDataDeliberacao DATE,\n",
    "\tSituacao VARCHAR(200),\n",
    "\tAssunto VARCHAR(1000),\n",
    "\tAutor VARCHAR(1000),\n",
    "\tProposicao INT,\n",
    "\tAno INT,\n",
    "\tTexto VARCHAR(MAX)\n",
    "\n",
    ")\n",
    "```"
   ]
  },
  {
   "cell_type": "markdown",
   "id": "be26136f",
   "metadata": {},
   "source": [
    "# <font color=green> 4. ALIMENTANDO AS TABELAS"
   ]
  },
  {
   "cell_type": "code",
   "execution_count": 11,
   "id": "8791d90c",
   "metadata": {},
   "outputs": [],
   "source": [
    "# Biblioteca que conecta o Python ao SQL\n",
    "import pyodbc"
   ]
  },
  {
   "cell_type": "code",
   "execution_count": null,
   "id": "b5bbfac6",
   "metadata": {},
   "outputs": [],
   "source": [
    "# No cmd execute esse comando para instalar o pyodbc\n",
    "pip install pyodbc==4.0.30"
   ]
  },
  {
   "cell_type": "code",
   "execution_count": 12,
   "id": "df94ea00",
   "metadata": {},
   "outputs": [
    {
     "data": {
      "text/plain": [
       "'4.0.30'"
      ]
     },
     "execution_count": 12,
     "metadata": {},
     "output_type": "execute_result"
    }
   ],
   "source": [
    "# verifique a versão\n",
    "pyodbc.version\n"
   ]
  },
  {
   "cell_type": "code",
   "execution_count": 13,
   "id": "ff2d1863",
   "metadata": {},
   "outputs": [],
   "source": [
    "# Conectando o Python com o SQL Server\n",
    "\n",
    "'''\n",
    "# Com senha para autenticação no Windows\n",
    "conn = pyodbc.connect('Trusted_Connection=yes', \n",
    "                      driver = '{ODBC Driver 17 for SQL Server}',\n",
    "                      server = 'DESKTOP-76N06IM\\SQLEXPRESS', \n",
    "                      database = 'Indaial2',\n",
    "                      UID='sa',\n",
    "                      PWD='SuaSenha')\n",
    "\n",
    "\n",
    "'''\n",
    "\n",
    "#Com autenticação do Windows\n",
    "conn = pyodbc.connect('Trusted_Connection=yes', \n",
    "                      driver = '{ODBC Driver 17 for SQL Server}',\n",
    "                      server = 'DESKTOP-76N06IM\\SQLEXPRESS', \n",
    "                      database = 'Indaial2')\n"
   ]
  },
  {
   "cell_type": "code",
   "execution_count": 26,
   "id": "9c32f6a2",
   "metadata": {},
   "outputs": [
    {
     "data": {
      "text/html": [
       "<div>\n",
       "<style scoped>\n",
       "    .dataframe tbody tr th:only-of-type {\n",
       "        vertical-align: middle;\n",
       "    }\n",
       "\n",
       "    .dataframe tbody tr th {\n",
       "        vertical-align: top;\n",
       "    }\n",
       "\n",
       "    .dataframe thead th {\n",
       "        text-align: right;\n",
       "    }\n",
       "</style>\n",
       "<table border=\"1\" class=\"dataframe\">\n",
       "  <thead>\n",
       "    <tr style=\"text-align: right;\">\n",
       "      <th></th>\n",
       "      <th>DataReuniao</th>\n",
       "      <th>DataDeliberacao</th>\n",
       "      <th>Situacao</th>\n",
       "      <th>Assunto</th>\n",
       "      <th>Autor</th>\n",
       "      <th>Proposicao</th>\n",
       "      <th>Ano</th>\n",
       "      <th>Texto</th>\n",
       "    </tr>\n",
       "  </thead>\n",
       "  <tbody>\n",
       "    <tr>\n",
       "      <th>0</th>\n",
       "      <td>1996-02-22</td>\n",
       "      <td>1996-02-22</td>\n",
       "      <td>Proposição Aprovada</td>\n",
       "      <td>Serviços e Obras</td>\n",
       "      <td>Vereador Henrique Fritz.</td>\n",
       "      <td>1</td>\n",
       "      <td>1996</td>\n",
       "      <td>construção de Escola de 1º grau no Bairro Nova...</td>\n",
       "    </tr>\n",
       "    <tr>\n",
       "      <th>1</th>\n",
       "      <td>1996-02-22</td>\n",
       "      <td>1996-02-22</td>\n",
       "      <td>Proposição Aprovada</td>\n",
       "      <td>Serviços e Obras</td>\n",
       "      <td>Vereador Henrique Fritz.</td>\n",
       "      <td>2</td>\n",
       "      <td>1996</td>\n",
       "      <td>construção de Escola nas imediações dos Loteam...</td>\n",
       "    </tr>\n",
       "    <tr>\n",
       "      <th>2</th>\n",
       "      <td>1996-02-22</td>\n",
       "      <td>1996-02-22</td>\n",
       "      <td>Proposição Aprovada</td>\n",
       "      <td>Limpeza, Macadamização, Patrolamento, Retifica...</td>\n",
       "      <td>Vereador Henrique Fritz.</td>\n",
       "      <td>3</td>\n",
       "      <td>1996</td>\n",
       "      <td>alargamento da Rua ID 90                      ...</td>\n",
       "    </tr>\n",
       "    <tr>\n",
       "      <th>3</th>\n",
       "      <td>1996-02-22</td>\n",
       "      <td>1996-02-22</td>\n",
       "      <td>Proposição Aprovada</td>\n",
       "      <td>Rede de Água / Esgoto / Pluvial</td>\n",
       "      <td>Vereador Henrique Fritz.</td>\n",
       "      <td>4</td>\n",
       "      <td>1996</td>\n",
       "      <td>prolongamento da rede d'água na Rua Reinhold S...</td>\n",
       "    </tr>\n",
       "    <tr>\n",
       "      <th>4</th>\n",
       "      <td>1996-02-22</td>\n",
       "      <td>1996-02-22</td>\n",
       "      <td>Proposição Aprovada</td>\n",
       "      <td>Rede de Água / Esgoto / Pluvial</td>\n",
       "      <td>Vereador Henrique Fritz.</td>\n",
       "      <td>5</td>\n",
       "      <td>1996</td>\n",
       "      <td>Prolongamento de rede d'água na Rua Lorenz até...</td>\n",
       "    </tr>\n",
       "    <tr>\n",
       "      <th>...</th>\n",
       "      <td>...</td>\n",
       "      <td>...</td>\n",
       "      <td>...</td>\n",
       "      <td>...</td>\n",
       "      <td>...</td>\n",
       "      <td>...</td>\n",
       "      <td>...</td>\n",
       "      <td>...</td>\n",
       "    </tr>\n",
       "    <tr>\n",
       "      <th>234</th>\n",
       "      <td>1996-03-04</td>\n",
       "      <td>1996-03-04</td>\n",
       "      <td>Proposição Aprovada</td>\n",
       "      <td>Telefônia / Internet</td>\n",
       "      <td>Vereador Evaldir Simão.</td>\n",
       "      <td>235</td>\n",
       "      <td>1996</td>\n",
       "      <td>Colocação de um telefone público na Rua Bagé, ...</td>\n",
       "    </tr>\n",
       "    <tr>\n",
       "      <th>235</th>\n",
       "      <td>1996-03-04</td>\n",
       "      <td>1996-03-04</td>\n",
       "      <td>Proposição Aprovada</td>\n",
       "      <td>Iluminação Pública e Rede de Energia Elétrica</td>\n",
       "      <td>Vereador Evaldir Simão.</td>\n",
       "      <td>236</td>\n",
       "      <td>1996</td>\n",
       "      <td>Verificar problemas de iluminação pública no p...</td>\n",
       "    </tr>\n",
       "    <tr>\n",
       "      <th>236</th>\n",
       "      <td>1996-03-04</td>\n",
       "      <td>1996-03-04</td>\n",
       "      <td>Proposição Aprovada</td>\n",
       "      <td>Iluminação Pública e Rede de Energia Elétrica</td>\n",
       "      <td>Vereador Evaldir Simão.</td>\n",
       "      <td>237</td>\n",
       "      <td>1996</td>\n",
       "      <td>Substituir lâmpadas queimadas, com a máxima ur...</td>\n",
       "    </tr>\n",
       "    <tr>\n",
       "      <th>237</th>\n",
       "      <td>1996-03-04</td>\n",
       "      <td>1996-03-04</td>\n",
       "      <td>Proposição Aprovada</td>\n",
       "      <td>Diversos</td>\n",
       "      <td>Vereador Evaldir Simão.</td>\n",
       "      <td>238</td>\n",
       "      <td>1996</td>\n",
       "      <td>Efetuar reparos nos suportes para bicicletas l...</td>\n",
       "    </tr>\n",
       "    <tr>\n",
       "      <th>238</th>\n",
       "      <td>1996-03-04</td>\n",
       "      <td>1996-03-04</td>\n",
       "      <td>Proposição Aprovada</td>\n",
       "      <td>Diversos</td>\n",
       "      <td>Vereador Evaldir Simão.</td>\n",
       "      <td>239</td>\n",
       "      <td>1996</td>\n",
       "      <td>Expedir aos servidores inativos contra cheque ...</td>\n",
       "    </tr>\n",
       "  </tbody>\n",
       "</table>\n",
       "<p>239 rows × 8 columns</p>\n",
       "</div>"
      ],
      "text/plain": [
       "    DataReuniao DataDeliberacao             Situacao  \\\n",
       "0    1996-02-22      1996-02-22  Proposição Aprovada   \n",
       "1    1996-02-22      1996-02-22  Proposição Aprovada   \n",
       "2    1996-02-22      1996-02-22  Proposição Aprovada   \n",
       "3    1996-02-22      1996-02-22  Proposição Aprovada   \n",
       "4    1996-02-22      1996-02-22  Proposição Aprovada   \n",
       "..          ...             ...                  ...   \n",
       "234  1996-03-04      1996-03-04  Proposição Aprovada   \n",
       "235  1996-03-04      1996-03-04  Proposição Aprovada   \n",
       "236  1996-03-04      1996-03-04  Proposição Aprovada   \n",
       "237  1996-03-04      1996-03-04  Proposição Aprovada   \n",
       "238  1996-03-04      1996-03-04  Proposição Aprovada   \n",
       "\n",
       "                                               Assunto  \\\n",
       "0                                     Serviços e Obras   \n",
       "1                                     Serviços e Obras   \n",
       "2    Limpeza, Macadamização, Patrolamento, Retifica...   \n",
       "3                      Rede de Água / Esgoto / Pluvial   \n",
       "4                      Rede de Água / Esgoto / Pluvial   \n",
       "..                                                 ...   \n",
       "234                               Telefônia / Internet   \n",
       "235      Iluminação Pública e Rede de Energia Elétrica   \n",
       "236      Iluminação Pública e Rede de Energia Elétrica   \n",
       "237                                           Diversos   \n",
       "238                                           Diversos   \n",
       "\n",
       "                        Autor  Proposicao   Ano  \\\n",
       "0    Vereador Henrique Fritz.           1  1996   \n",
       "1    Vereador Henrique Fritz.           2  1996   \n",
       "2    Vereador Henrique Fritz.           3  1996   \n",
       "3    Vereador Henrique Fritz.           4  1996   \n",
       "4    Vereador Henrique Fritz.           5  1996   \n",
       "..                        ...         ...   ...   \n",
       "234   Vereador Evaldir Simão.         235  1996   \n",
       "235   Vereador Evaldir Simão.         236  1996   \n",
       "236   Vereador Evaldir Simão.         237  1996   \n",
       "237   Vereador Evaldir Simão.         238  1996   \n",
       "238   Vereador Evaldir Simão.         239  1996   \n",
       "\n",
       "                                                 Texto  \n",
       "0    construção de Escola de 1º grau no Bairro Nova...  \n",
       "1    construção de Escola nas imediações dos Loteam...  \n",
       "2    alargamento da Rua ID 90                      ...  \n",
       "3    prolongamento da rede d'água na Rua Reinhold S...  \n",
       "4    Prolongamento de rede d'água na Rua Lorenz até...  \n",
       "..                                                 ...  \n",
       "234  Colocação de um telefone público na Rua Bagé, ...  \n",
       "235  Verificar problemas de iluminação pública no p...  \n",
       "236  Substituir lâmpadas queimadas, com a máxima ur...  \n",
       "237  Efetuar reparos nos suportes para bicicletas l...  \n",
       "238  Expedir aos servidores inativos contra cheque ...  \n",
       "\n",
       "[239 rows x 8 columns]"
      ]
     },
     "execution_count": 26,
     "metadata": {},
     "output_type": "execute_result"
    }
   ],
   "source": [
    "# Buscando os dados com SQL e pandas para gerar tabela\n",
    "    \n",
    "query = '''\n",
    "    select \n",
    "        * \n",
    "    from Proposicoes\n",
    "'''\n",
    "sql_query = pd.read_sql_query(query,conn)\n",
    "sql_query"
   ]
  },
  {
   "cell_type": "code",
   "execution_count": 14,
   "id": "827902d3",
   "metadata": {},
   "outputs": [
    {
     "data": {
      "text/html": [
       "<div>\n",
       "<style scoped>\n",
       "    .dataframe tbody tr th:only-of-type {\n",
       "        vertical-align: middle;\n",
       "    }\n",
       "\n",
       "    .dataframe tbody tr th {\n",
       "        vertical-align: top;\n",
       "    }\n",
       "\n",
       "    .dataframe thead th {\n",
       "        text-align: right;\n",
       "    }\n",
       "</style>\n",
       "<table border=\"1\" class=\"dataframe\">\n",
       "  <thead>\n",
       "    <tr style=\"text-align: right;\">\n",
       "      <th></th>\n",
       "      <th>Reunião</th>\n",
       "      <th>Deliberação</th>\n",
       "      <th>Situação</th>\n",
       "      <th>Assunto</th>\n",
       "      <th>Autor</th>\n",
       "      <th>Proposição</th>\n",
       "      <th>Ano</th>\n",
       "      <th>Texto</th>\n",
       "    </tr>\n",
       "  </thead>\n",
       "  <tbody>\n",
       "  </tbody>\n",
       "</table>\n",
       "</div>"
      ],
      "text/plain": [
       "Empty DataFrame\n",
       "Columns: [Reunião, Deliberação, Situação, Assunto, Autor, Proposição, Ano, Texto]\n",
       "Index: []"
      ]
     },
     "execution_count": 14,
     "metadata": {},
     "output_type": "execute_result"
    }
   ],
   "source": [
    "# Criamos uma base\n",
    "base = pd.DataFrame(columns=['Reunião', 'Deliberação', 'Situação', 'Assunto', 'Autor', 'Proposição', 'Ano', 'Texto'])\n",
    "base"
   ]
  },
  {
   "cell_type": "code",
   "execution_count": null,
   "id": "0e346f87",
   "metadata": {
    "scrolled": true
   },
   "outputs": [],
   "source": [
    "# \"Combinamos\" as bases\n",
    "\n",
    "# essa prática é interessante para buscar todos os dados, mesmo que os campo estejam vazios\n",
    "# usa-se 1900-01-01 para campos vazios(null)\n",
    "\n",
    "base = base.append(teste)\n",
    "base"
   ]
  },
  {
   "cell_type": "code",
   "execution_count": null,
   "id": "ac09e516",
   "metadata": {},
   "outputs": [],
   "source": [
    "base.fillna('')"
   ]
  },
  {
   "cell_type": "code",
   "execution_count": 15,
   "id": "12fd20b1",
   "metadata": {},
   "outputs": [],
   "source": [
    "# append - faz a junção da base com os dados e o cabeçalho\n",
    "\n",
    "base = pd.DataFrame(columns=['Reunião', 'Deliberação', 'Situação', 'Assunto', 'Autor', 'Proposição', 'Ano', 'Texto'])\n",
    "teste = base.append(teste).fillna('')\n",
    "\n",
    "\n",
    "# Conecta o banco de dados\n",
    "conn = pyodbc.connect('Trusted_Connection=yes', \n",
    "                      driver = '{ODBC Driver 17 for SQL Server}',\n",
    "                      server = 'DESKTOP-76N06IM\\SQLEXPRESS', \n",
    "                      database = 'Indaial2')\n",
    "\n",
    "\n",
    "# Inserindo os dados nas colunas\n",
    "cursor = conn.cursor()\n",
    "\n",
    "\n",
    "for index, row in teste.iterrows():\n",
    "    \n",
    "    cursor.execute('''\n",
    "    \n",
    "        INSERT INTO Proposicoes (\n",
    "            DataReuniao,\n",
    "            DataDeliberacao,\n",
    "            Situacao,\n",
    "            Assunto,\n",
    "            Autor,\n",
    "            Proposicao,\n",
    "            Ano,\n",
    "            Texto\n",
    "        ) \n",
    "        values(?,?,?,?,?,?,?,?)''', # mesma quantidade de variáveis\n",
    "\n",
    "        row['Reunião'], \n",
    "        row['Deliberação'], \n",
    "        row['Situação'], \n",
    "        row['Assunto'], \n",
    "        row['Autor'], \n",
    "        row['Proposição'], \n",
    "        row['Ano'], \n",
    "        row['Texto']\n",
    "\n",
    "    )\n",
    "\n",
    "# Executa o comando\n",
    "conn.commit()\n",
    "cursor.close()\n"
   ]
  },
  {
   "cell_type": "code",
   "execution_count": null,
   "id": "f77e674f",
   "metadata": {
    "scrolled": true
   },
   "outputs": [],
   "source": [
    "# Conexão com o Banco de dados\n",
    "conn = pyodbc.connect('Trusted_Connection=yes', \n",
    "                      driver = '{ODBC Driver 17 for SQL Server}',\n",
    "                      server = 'DESKTOP-76N06IM\\SQLEXPRESS', \n",
    "                      database = 'Indaial2')\n",
    "\n",
    "query = '''\n",
    "    select \n",
    "        * \n",
    "    from Proposicoes\n",
    "'''\n",
    "sql_query = pd.read_sql_query(query,conn)\n",
    "sql_query"
   ]
  },
  {
   "cell_type": "code",
   "execution_count": 16,
   "id": "b59422c1",
   "metadata": {},
   "outputs": [],
   "source": [
    "# Funcão que conecta Python ao SQL com geração de tabela com os dados\n",
    "def SQLSelect(query):\n",
    "    \n",
    "    conn = pyodbc.connect('Trusted_Connection=yes', \n",
    "                          driver = '{ODBC Driver 17 for SQL Server}',\n",
    "                          server = 'DESKTOP-76N06IM\\SQLEXPRESS', \n",
    "                          database = 'Indaial2')\n",
    "\n",
    "    out = pd.read_sql_query(query,conn)\n",
    "    return out"
   ]
  },
  {
   "cell_type": "code",
   "execution_count": 17,
   "id": "3da10d86",
   "metadata": {},
   "outputs": [
    {
     "data": {
      "text/html": [
       "<div>\n",
       "<style scoped>\n",
       "    .dataframe tbody tr th:only-of-type {\n",
       "        vertical-align: middle;\n",
       "    }\n",
       "\n",
       "    .dataframe tbody tr th {\n",
       "        vertical-align: top;\n",
       "    }\n",
       "\n",
       "    .dataframe thead th {\n",
       "        text-align: right;\n",
       "    }\n",
       "</style>\n",
       "<table border=\"1\" class=\"dataframe\">\n",
       "  <thead>\n",
       "    <tr style=\"text-align: right;\">\n",
       "      <th></th>\n",
       "      <th>DataReuniao</th>\n",
       "      <th>DataDeliberacao</th>\n",
       "      <th>Situacao</th>\n",
       "      <th>Assunto</th>\n",
       "      <th>Autor</th>\n",
       "      <th>Proposicao</th>\n",
       "      <th>Ano</th>\n",
       "      <th>Texto</th>\n",
       "    </tr>\n",
       "  </thead>\n",
       "  <tbody>\n",
       "    <tr>\n",
       "      <th>0</th>\n",
       "      <td>2021-04-08</td>\n",
       "      <td>2021-04-08</td>\n",
       "      <td>Proposição Aprovada</td>\n",
       "      <td>Limpeza, Macadamização, Patrolamento, Retifica...</td>\n",
       "      <td>Vereador Flávio Augusto Ferri Molinari.</td>\n",
       "      <td>500</td>\n",
       "      <td>2021</td>\n",
       "      <td>O vereador que está subscreve, no uso das atri...</td>\n",
       "    </tr>\n",
       "    <tr>\n",
       "      <th>1</th>\n",
       "      <td>2021-04-08</td>\n",
       "      <td>2021-04-08</td>\n",
       "      <td>Proposição Aprovada</td>\n",
       "      <td>Pontes, Bueiros, boca de lobo</td>\n",
       "      <td>Vereador Flávio Augusto Ferri Molinari.</td>\n",
       "      <td>501</td>\n",
       "      <td>2021</td>\n",
       "      <td>O vereador que está subscreve, no uso das atri...</td>\n",
       "    </tr>\n",
       "    <tr>\n",
       "      <th>2</th>\n",
       "      <td>2021-04-08</td>\n",
       "      <td>2021-04-08</td>\n",
       "      <td>Proposição Aprovada</td>\n",
       "      <td>Manutenção de via pública</td>\n",
       "      <td>Vereador Fernanda dos Santos.</td>\n",
       "      <td>502</td>\n",
       "      <td>2021</td>\n",
       "      <td>A vereadora que esta subscreve, no uso das atr...</td>\n",
       "    </tr>\n",
       "  </tbody>\n",
       "</table>\n",
       "</div>"
      ],
      "text/plain": [
       "  DataReuniao DataDeliberacao             Situacao  \\\n",
       "0  2021-04-08      2021-04-08  Proposição Aprovada   \n",
       "1  2021-04-08      2021-04-08  Proposição Aprovada   \n",
       "2  2021-04-08      2021-04-08  Proposição Aprovada   \n",
       "\n",
       "                                             Assunto  \\\n",
       "0  Limpeza, Macadamização, Patrolamento, Retifica...   \n",
       "1                      Pontes, Bueiros, boca de lobo   \n",
       "2                          Manutenção de via pública   \n",
       "\n",
       "                                     Autor  Proposicao   Ano  \\\n",
       "0  Vereador Flávio Augusto Ferri Molinari.         500  2021   \n",
       "1  Vereador Flávio Augusto Ferri Molinari.         501  2021   \n",
       "2            Vereador Fernanda dos Santos.         502  2021   \n",
       "\n",
       "                                               Texto  \n",
       "0  O vereador que está subscreve, no uso das atri...  \n",
       "1  O vereador que está subscreve, no uso das atri...  \n",
       "2  A vereadora que esta subscreve, no uso das atr...  "
      ]
     },
     "execution_count": 17,
     "metadata": {},
     "output_type": "execute_result"
    }
   ],
   "source": [
    "# Retorno da função acima\n",
    "SQLSelect('''\n",
    "    select \n",
    "        *\n",
    "    from Proposicoes\n",
    "''')"
   ]
  },
  {
   "cell_type": "code",
   "execution_count": 18,
   "id": "82761429",
   "metadata": {},
   "outputs": [
    {
     "data": {
      "text/html": [
       "<div>\n",
       "<style scoped>\n",
       "    .dataframe tbody tr th:only-of-type {\n",
       "        vertical-align: middle;\n",
       "    }\n",
       "\n",
       "    .dataframe tbody tr th {\n",
       "        vertical-align: top;\n",
       "    }\n",
       "\n",
       "    .dataframe thead th {\n",
       "        text-align: right;\n",
       "    }\n",
       "</style>\n",
       "<table border=\"1\" class=\"dataframe\">\n",
       "  <thead>\n",
       "    <tr style=\"text-align: right;\">\n",
       "      <th></th>\n",
       "      <th>maior</th>\n",
       "    </tr>\n",
       "  </thead>\n",
       "  <tbody>\n",
       "    <tr>\n",
       "      <th>0</th>\n",
       "      <td>502</td>\n",
       "    </tr>\n",
       "  </tbody>\n",
       "</table>\n",
       "</div>"
      ],
      "text/plain": [
       "   maior\n",
       "0    502"
      ]
     },
     "execution_count": 18,
     "metadata": {},
     "output_type": "execute_result"
    }
   ],
   "source": [
    "SQLSelect('''\n",
    "    select \n",
    "        maior = max(Proposicao)\n",
    "    from Proposicoes\n",
    "''')"
   ]
  },
  {
   "cell_type": "code",
   "execution_count": 19,
   "id": "bea43701",
   "metadata": {},
   "outputs": [],
   "source": [
    "# Função que insere a próxima proposição que seja maior que a atual\n",
    "# E envia para o Bando de Dados\n",
    "\n",
    "def SQLInsertProposicoes(TabelaProposicoes):\n",
    "    \n",
    "    base = pd.DataFrame(columns=['Reunião', 'Deliberação', 'Situação', 'Assunto', 'Autor', 'Proposição', 'Ano', 'Texto'])\n",
    "    TabelaProposicoes = base.append(TabelaProposicoes).fillna('')\n",
    "\n",
    "    #conecta o banco de dados\n",
    "    conn = pyodbc.connect('Trusted_Connection=yes', \n",
    "                          driver = '{ODBC Driver 17 for SQL Server}',\n",
    "                          server = 'DESKTOP-76N06IM\\SQLEXPRESS', \n",
    "                          database = 'Indaial2')\n",
    "\n",
    "    cursor = conn.cursor()\n",
    "\n",
    "    for index, row in TabelaProposicoes.iterrows():\n",
    "\n",
    "        cursor.execute('''\n",
    "\n",
    "            INSERT INTO Proposicoes (\n",
    "                DataReuniao,\n",
    "                DataDeliberacao,\n",
    "                Situacao,\n",
    "                Assunto,\n",
    "                Autor,\n",
    "                Proposicao,\n",
    "                Ano,\n",
    "                Texto\n",
    "            ) \n",
    "            values(?,?,?,?,?,?,?,?)''', \n",
    "\n",
    "            row['Reunião'], \n",
    "            row['Deliberação'], \n",
    "            row['Situação'], \n",
    "            row['Assunto'], \n",
    "            row['Autor'], \n",
    "            row['Proposição'], \n",
    "            row['Ano'], \n",
    "            row['Texto']\n",
    "\n",
    "        )\n",
    "\n",
    "    conn.commit()\n",
    "    cursor.close()"
   ]
  },
  {
   "cell_type": "code",
   "execution_count": 20,
   "id": "b66934b5",
   "metadata": {},
   "outputs": [],
   "source": [
    "SQLInsertProposicoes(teste)"
   ]
  },
  {
   "cell_type": "code",
   "execution_count": 21,
   "id": "556ec46f",
   "metadata": {
    "scrolled": true
   },
   "outputs": [
    {
     "data": {
      "text/html": [
       "<div>\n",
       "<style scoped>\n",
       "    .dataframe tbody tr th:only-of-type {\n",
       "        vertical-align: middle;\n",
       "    }\n",
       "\n",
       "    .dataframe tbody tr th {\n",
       "        vertical-align: top;\n",
       "    }\n",
       "\n",
       "    .dataframe thead th {\n",
       "        text-align: right;\n",
       "    }\n",
       "</style>\n",
       "<table border=\"1\" class=\"dataframe\">\n",
       "  <thead>\n",
       "    <tr style=\"text-align: right;\">\n",
       "      <th></th>\n",
       "      <th>DataReuniao</th>\n",
       "      <th>DataDeliberacao</th>\n",
       "      <th>Situacao</th>\n",
       "      <th>Assunto</th>\n",
       "      <th>Autor</th>\n",
       "      <th>Proposicao</th>\n",
       "      <th>Ano</th>\n",
       "      <th>Texto</th>\n",
       "    </tr>\n",
       "  </thead>\n",
       "  <tbody>\n",
       "    <tr>\n",
       "      <th>0</th>\n",
       "      <td>2021-04-08</td>\n",
       "      <td>2021-04-08</td>\n",
       "      <td>Proposição Aprovada</td>\n",
       "      <td>Limpeza, Macadamização, Patrolamento, Retifica...</td>\n",
       "      <td>Vereador Flávio Augusto Ferri Molinari.</td>\n",
       "      <td>500</td>\n",
       "      <td>2021</td>\n",
       "      <td>O vereador que está subscreve, no uso das atri...</td>\n",
       "    </tr>\n",
       "    <tr>\n",
       "      <th>1</th>\n",
       "      <td>2021-04-08</td>\n",
       "      <td>2021-04-08</td>\n",
       "      <td>Proposição Aprovada</td>\n",
       "      <td>Pontes, Bueiros, boca de lobo</td>\n",
       "      <td>Vereador Flávio Augusto Ferri Molinari.</td>\n",
       "      <td>501</td>\n",
       "      <td>2021</td>\n",
       "      <td>O vereador que está subscreve, no uso das atri...</td>\n",
       "    </tr>\n",
       "    <tr>\n",
       "      <th>2</th>\n",
       "      <td>2021-04-08</td>\n",
       "      <td>2021-04-08</td>\n",
       "      <td>Proposição Aprovada</td>\n",
       "      <td>Manutenção de via pública</td>\n",
       "      <td>Vereador Fernanda dos Santos.</td>\n",
       "      <td>502</td>\n",
       "      <td>2021</td>\n",
       "      <td>A vereadora que esta subscreve, no uso das atr...</td>\n",
       "    </tr>\n",
       "    <tr>\n",
       "      <th>3</th>\n",
       "      <td>2021-04-08</td>\n",
       "      <td>2021-04-08</td>\n",
       "      <td>Proposição Aprovada</td>\n",
       "      <td>Limpeza, Macadamização, Patrolamento, Retifica...</td>\n",
       "      <td>Vereador Flávio Augusto Ferri Molinari.</td>\n",
       "      <td>500</td>\n",
       "      <td>2021</td>\n",
       "      <td>O vereador que está subscreve, no uso das atri...</td>\n",
       "    </tr>\n",
       "    <tr>\n",
       "      <th>4</th>\n",
       "      <td>2021-04-08</td>\n",
       "      <td>2021-04-08</td>\n",
       "      <td>Proposição Aprovada</td>\n",
       "      <td>Pontes, Bueiros, boca de lobo</td>\n",
       "      <td>Vereador Flávio Augusto Ferri Molinari.</td>\n",
       "      <td>501</td>\n",
       "      <td>2021</td>\n",
       "      <td>O vereador que está subscreve, no uso das atri...</td>\n",
       "    </tr>\n",
       "    <tr>\n",
       "      <th>5</th>\n",
       "      <td>2021-04-08</td>\n",
       "      <td>2021-04-08</td>\n",
       "      <td>Proposição Aprovada</td>\n",
       "      <td>Manutenção de via pública</td>\n",
       "      <td>Vereador Fernanda dos Santos.</td>\n",
       "      <td>502</td>\n",
       "      <td>2021</td>\n",
       "      <td>A vereadora que esta subscreve, no uso das atr...</td>\n",
       "    </tr>\n",
       "  </tbody>\n",
       "</table>\n",
       "</div>"
      ],
      "text/plain": [
       "  DataReuniao DataDeliberacao             Situacao  \\\n",
       "0  2021-04-08      2021-04-08  Proposição Aprovada   \n",
       "1  2021-04-08      2021-04-08  Proposição Aprovada   \n",
       "2  2021-04-08      2021-04-08  Proposição Aprovada   \n",
       "3  2021-04-08      2021-04-08  Proposição Aprovada   \n",
       "4  2021-04-08      2021-04-08  Proposição Aprovada   \n",
       "5  2021-04-08      2021-04-08  Proposição Aprovada   \n",
       "\n",
       "                                             Assunto  \\\n",
       "0  Limpeza, Macadamização, Patrolamento, Retifica...   \n",
       "1                      Pontes, Bueiros, boca de lobo   \n",
       "2                          Manutenção de via pública   \n",
       "3  Limpeza, Macadamização, Patrolamento, Retifica...   \n",
       "4                      Pontes, Bueiros, boca de lobo   \n",
       "5                          Manutenção de via pública   \n",
       "\n",
       "                                     Autor  Proposicao   Ano  \\\n",
       "0  Vereador Flávio Augusto Ferri Molinari.         500  2021   \n",
       "1  Vereador Flávio Augusto Ferri Molinari.         501  2021   \n",
       "2            Vereador Fernanda dos Santos.         502  2021   \n",
       "3  Vereador Flávio Augusto Ferri Molinari.         500  2021   \n",
       "4  Vereador Flávio Augusto Ferri Molinari.         501  2021   \n",
       "5            Vereador Fernanda dos Santos.         502  2021   \n",
       "\n",
       "                                               Texto  \n",
       "0  O vereador que está subscreve, no uso das atri...  \n",
       "1  O vereador que está subscreve, no uso das atri...  \n",
       "2  A vereadora que esta subscreve, no uso das atr...  \n",
       "3  O vereador que está subscreve, no uso das atri...  \n",
       "4  O vereador que está subscreve, no uso das atri...  \n",
       "5  A vereadora que esta subscreve, no uso das atr...  "
      ]
     },
     "execution_count": 21,
     "metadata": {},
     "output_type": "execute_result"
    }
   ],
   "source": [
    "SQLSelect('''\n",
    "    select \n",
    "        *\n",
    "    from Proposicoes\n",
    "''')"
   ]
  },
  {
   "cell_type": "code",
   "execution_count": 22,
   "id": "8a4a6cb1",
   "metadata": {},
   "outputs": [],
   "source": [
    "# Função para limpar dados da tabela\n",
    "\n",
    "def SQLTruncate(NomeTabela):\n",
    "\n",
    "    conn = pyodbc.connect('Trusted_Connection=yes', \n",
    "                          driver = '{ODBC Driver 17 for SQL Server}',\n",
    "                          server = 'DESKTOP-76N06IM\\SQLEXPRESS', \n",
    "                          database = 'Indaial2')\n",
    "\n",
    "    cursor = conn.cursor()\n",
    "\n",
    "    cursor.execute(f'''\n",
    "\n",
    "                   TRUNCATE TABLE {NomeTabela}\n",
    "\n",
    "                   ''')\n",
    "\n",
    "    conn.commit()\n",
    "    cursor.close()"
   ]
  },
  {
   "cell_type": "code",
   "execution_count": 23,
   "id": "544d6b18",
   "metadata": {
    "scrolled": true
   },
   "outputs": [
    {
     "data": {
      "text/html": [
       "<div>\n",
       "<style scoped>\n",
       "    .dataframe tbody tr th:only-of-type {\n",
       "        vertical-align: middle;\n",
       "    }\n",
       "\n",
       "    .dataframe tbody tr th {\n",
       "        vertical-align: top;\n",
       "    }\n",
       "\n",
       "    .dataframe thead th {\n",
       "        text-align: right;\n",
       "    }\n",
       "</style>\n",
       "<table border=\"1\" class=\"dataframe\">\n",
       "  <thead>\n",
       "    <tr style=\"text-align: right;\">\n",
       "      <th></th>\n",
       "      <th>DataReuniao</th>\n",
       "      <th>DataDeliberacao</th>\n",
       "      <th>Situacao</th>\n",
       "      <th>Assunto</th>\n",
       "      <th>Autor</th>\n",
       "      <th>Proposicao</th>\n",
       "      <th>Ano</th>\n",
       "      <th>Texto</th>\n",
       "    </tr>\n",
       "  </thead>\n",
       "  <tbody>\n",
       "  </tbody>\n",
       "</table>\n",
       "</div>"
      ],
      "text/plain": [
       "Empty DataFrame\n",
       "Columns: [DataReuniao, DataDeliberacao, Situacao, Assunto, Autor, Proposicao, Ano, Texto]\n",
       "Index: []"
      ]
     },
     "execution_count": 23,
     "metadata": {},
     "output_type": "execute_result"
    }
   ],
   "source": [
    "# Limpando dados da tabela\n",
    "SQLTruncate('Proposicoes')\n",
    "\n",
    "# Visualizando a tabela\n",
    "SQLSelect('select * from Proposicoes')"
   ]
  },
  {
   "cell_type": "markdown",
   "id": "0d65ff5c",
   "metadata": {},
   "source": [
    "# <font color=green> 5. ALIMENTAÇÃO INCREMENTAL"
   ]
  },
  {
   "cell_type": "code",
   "execution_count": 24,
   "id": "3139c160",
   "metadata": {},
   "outputs": [
    {
     "data": {
      "text/html": [
       "<div>\n",
       "<style scoped>\n",
       "    .dataframe tbody tr th:only-of-type {\n",
       "        vertical-align: middle;\n",
       "    }\n",
       "\n",
       "    .dataframe tbody tr th {\n",
       "        vertical-align: top;\n",
       "    }\n",
       "\n",
       "    .dataframe thead th {\n",
       "        text-align: right;\n",
       "    }\n",
       "</style>\n",
       "<table border=\"1\" class=\"dataframe\">\n",
       "  <thead>\n",
       "    <tr style=\"text-align: right;\">\n",
       "      <th></th>\n",
       "      <th>DataReuniao</th>\n",
       "      <th>DataDeliberacao</th>\n",
       "      <th>Situacao</th>\n",
       "      <th>Assunto</th>\n",
       "      <th>Autor</th>\n",
       "      <th>Proposicao</th>\n",
       "      <th>Ano</th>\n",
       "      <th>Texto</th>\n",
       "    </tr>\n",
       "  </thead>\n",
       "  <tbody>\n",
       "    <tr>\n",
       "      <th>0</th>\n",
       "      <td>2021-02-11</td>\n",
       "      <td>2021-02-11</td>\n",
       "      <td>Proposição Aprovada</td>\n",
       "      <td>Pontes, Bueiros, boca de lobo</td>\n",
       "      <td>Vereador Valentim Blasius.</td>\n",
       "      <td>202</td>\n",
       "      <td>2021</td>\n",
       "      <td>O Vereador abaixo firmado requer, após ouvido ...</td>\n",
       "    </tr>\n",
       "  </tbody>\n",
       "</table>\n",
       "</div>"
      ],
      "text/plain": [
       "  DataReuniao DataDeliberacao             Situacao  \\\n",
       "0  2021-02-11      2021-02-11  Proposição Aprovada   \n",
       "\n",
       "                         Assunto                       Autor  Proposicao  \\\n",
       "0  Pontes, Bueiros, boca de lobo  Vereador Valentim Blasius.         202   \n",
       "\n",
       "    Ano                                              Texto  \n",
       "0  2021  O Vereador abaixo firmado requer, após ouvido ...  "
      ]
     },
     "execution_count": 24,
     "metadata": {},
     "output_type": "execute_result"
    }
   ],
   "source": [
    "# Limpar os dados da tabela só pra demonstração\n",
    "# SQLTruncate('Proposicoes')\n",
    "\n",
    "\n",
    "# ========= INICIO =========\n",
    "proposicao = 202\n",
    "ano = 2021\n",
    "dados = Conteudo(proposicao,ano)\n",
    "tabela = pd.DataFrame([dados])\n",
    "SQLInsertProposicoes(tabela)\n",
    "# ========= FIM =========\n",
    "\n",
    "\n",
    "# visualizando dados\n",
    "SQLSelect(f'select * from Proposicoes where Proposicao = {proposicao} and Ano = {ano}')"
   ]
  },
  {
   "cell_type": "code",
   "execution_count": 25,
   "id": "4d7de7dc",
   "metadata": {},
   "outputs": [
    {
     "data": {
      "text/html": [
       "<div>\n",
       "<style scoped>\n",
       "    .dataframe tbody tr th:only-of-type {\n",
       "        vertical-align: middle;\n",
       "    }\n",
       "\n",
       "    .dataframe tbody tr th {\n",
       "        vertical-align: top;\n",
       "    }\n",
       "\n",
       "    .dataframe thead th {\n",
       "        text-align: right;\n",
       "    }\n",
       "</style>\n",
       "<table border=\"1\" class=\"dataframe\">\n",
       "  <thead>\n",
       "    <tr style=\"text-align: right;\">\n",
       "      <th></th>\n",
       "      <th>Proposicao</th>\n",
       "    </tr>\n",
       "  </thead>\n",
       "  <tbody>\n",
       "    <tr>\n",
       "      <th>0</th>\n",
       "      <td>202</td>\n",
       "    </tr>\n",
       "  </tbody>\n",
       "</table>\n",
       "</div>"
      ],
      "text/plain": [
       "   Proposicao\n",
       "0         202"
      ]
     },
     "execution_count": 25,
     "metadata": {},
     "output_type": "execute_result"
    }
   ],
   "source": [
    "ano = 2021\n",
    "dados = SQLSelect(f'select Proposicao = max(Proposicao) from Proposicoes where Ano = {ano}')\n",
    "dados"
   ]
  },
  {
   "cell_type": "code",
   "execution_count": 26,
   "id": "82a1feed",
   "metadata": {},
   "outputs": [
    {
     "data": {
      "text/plain": [
       "0    202\n",
       "Name: Proposicao, dtype: int64"
      ]
     },
     "execution_count": 26,
     "metadata": {},
     "output_type": "execute_result"
    }
   ],
   "source": [
    "# acessando a coluna\n",
    "dados['Proposicao']"
   ]
  },
  {
   "cell_type": "code",
   "execution_count": 27,
   "id": "bb5242f1",
   "metadata": {},
   "outputs": [
    {
     "data": {
      "text/plain": [
       "202"
      ]
     },
     "execution_count": 27,
     "metadata": {},
     "output_type": "execute_result"
    }
   ],
   "source": [
    "# acessando a coluna e linha\n",
    "dados['Proposicao'].loc[0]"
   ]
  },
  {
   "cell_type": "code",
   "execution_count": 28,
   "id": "86af8b61",
   "metadata": {},
   "outputs": [
    {
     "data": {
      "text/html": [
       "<div>\n",
       "<style scoped>\n",
       "    .dataframe tbody tr th:only-of-type {\n",
       "        vertical-align: middle;\n",
       "    }\n",
       "\n",
       "    .dataframe tbody tr th {\n",
       "        vertical-align: top;\n",
       "    }\n",
       "\n",
       "    .dataframe thead th {\n",
       "        text-align: right;\n",
       "    }\n",
       "</style>\n",
       "<table border=\"1\" class=\"dataframe\">\n",
       "  <thead>\n",
       "    <tr style=\"text-align: right;\">\n",
       "      <th></th>\n",
       "      <th>DataReuniao</th>\n",
       "      <th>DataDeliberacao</th>\n",
       "      <th>Situacao</th>\n",
       "      <th>Assunto</th>\n",
       "      <th>Autor</th>\n",
       "      <th>Proposicao</th>\n",
       "      <th>Ano</th>\n",
       "      <th>Texto</th>\n",
       "    </tr>\n",
       "  </thead>\n",
       "  <tbody>\n",
       "    <tr>\n",
       "      <th>0</th>\n",
       "      <td>2021-02-11</td>\n",
       "      <td>2021-02-11</td>\n",
       "      <td>Proposição Aprovada</td>\n",
       "      <td>Pontes, Bueiros, boca de lobo</td>\n",
       "      <td>Vereador Valentim Blasius.</td>\n",
       "      <td>202</td>\n",
       "      <td>2021</td>\n",
       "      <td>O Vereador abaixo firmado requer, após ouvido ...</td>\n",
       "    </tr>\n",
       "    <tr>\n",
       "      <th>1</th>\n",
       "      <td>2021-02-11</td>\n",
       "      <td>2021-02-11</td>\n",
       "      <td>Proposição Aprovada</td>\n",
       "      <td>Iluminação Pública e Rede de Energia Elétrica</td>\n",
       "      <td>Vereador Valentim Blasius.</td>\n",
       "      <td>203</td>\n",
       "      <td>2021</td>\n",
       "      <td>O Vereador abaixo firmado requer, após ouvido ...</td>\n",
       "    </tr>\n",
       "  </tbody>\n",
       "</table>\n",
       "</div>"
      ],
      "text/plain": [
       "  DataReuniao DataDeliberacao             Situacao  \\\n",
       "0  2021-02-11      2021-02-11  Proposição Aprovada   \n",
       "1  2021-02-11      2021-02-11  Proposição Aprovada   \n",
       "\n",
       "                                         Assunto                       Autor  \\\n",
       "0                  Pontes, Bueiros, boca de lobo  Vereador Valentim Blasius.   \n",
       "1  Iluminação Pública e Rede de Energia Elétrica  Vereador Valentim Blasius.   \n",
       "\n",
       "   Proposicao   Ano                                              Texto  \n",
       "0         202  2021  O Vereador abaixo firmado requer, após ouvido ...  \n",
       "1         203  2021  O Vereador abaixo firmado requer, após ouvido ...  "
      ]
     },
     "execution_count": 28,
     "metadata": {},
     "output_type": "execute_result"
    }
   ],
   "source": [
    "# ========= INICIO =========\n",
    "ano = 2021\n",
    "\n",
    "dados_ano = SQLSelect(f'select Proposicao = max(Proposicao) from Proposicoes where Ano = {ano}')\n",
    "ultima_proposicao = dados_ano['Proposicao'].loc[0]\n",
    "\n",
    "proxima_proposicao = int(ultima_proposicao) + 1\n",
    "\n",
    "dados = Conteudo(proxima_proposicao,ano)\n",
    "tabela = pd.DataFrame([dados])\n",
    "SQLInsertProposicoes(tabela)\n",
    "# ========= FIM =========\n",
    "\n",
    "\n",
    "# visualizando dados\n",
    "SQLSelect('select * from Proposicoes')"
   ]
  },
  {
   "cell_type": "code",
   "execution_count": 29,
   "id": "79a3c283",
   "metadata": {},
   "outputs": [
    {
     "data": {
      "text/html": [
       "<div>\n",
       "<style scoped>\n",
       "    .dataframe tbody tr th:only-of-type {\n",
       "        vertical-align: middle;\n",
       "    }\n",
       "\n",
       "    .dataframe tbody tr th {\n",
       "        vertical-align: top;\n",
       "    }\n",
       "\n",
       "    .dataframe thead th {\n",
       "        text-align: right;\n",
       "    }\n",
       "</style>\n",
       "<table border=\"1\" class=\"dataframe\">\n",
       "  <thead>\n",
       "    <tr style=\"text-align: right;\">\n",
       "      <th></th>\n",
       "      <th>DataReuniao</th>\n",
       "      <th>DataDeliberacao</th>\n",
       "      <th>Situacao</th>\n",
       "      <th>Assunto</th>\n",
       "      <th>Autor</th>\n",
       "      <th>Proposicao</th>\n",
       "      <th>Ano</th>\n",
       "      <th>Texto</th>\n",
       "    </tr>\n",
       "  </thead>\n",
       "  <tbody>\n",
       "  </tbody>\n",
       "</table>\n",
       "</div>"
      ],
      "text/plain": [
       "Empty DataFrame\n",
       "Columns: [DataReuniao, DataDeliberacao, Situacao, Assunto, Autor, Proposicao, Ano, Texto]\n",
       "Index: []"
      ]
     },
     "execution_count": 29,
     "metadata": {},
     "output_type": "execute_result"
    }
   ],
   "source": [
    "# Limpando dados da tabela\n",
    "SQLTruncate('Proposicoes')\n",
    "\n",
    "# Visualizando a tabela\n",
    "SQLSelect('select * from Proposicoes')"
   ]
  },
  {
   "cell_type": "code",
   "execution_count": 30,
   "id": "f40cbe69",
   "metadata": {},
   "outputs": [
    {
     "data": {
      "text/html": [
       "<div>\n",
       "<style scoped>\n",
       "    .dataframe tbody tr th:only-of-type {\n",
       "        vertical-align: middle;\n",
       "    }\n",
       "\n",
       "    .dataframe tbody tr th {\n",
       "        vertical-align: top;\n",
       "    }\n",
       "\n",
       "    .dataframe thead th {\n",
       "        text-align: right;\n",
       "    }\n",
       "</style>\n",
       "<table border=\"1\" class=\"dataframe\">\n",
       "  <thead>\n",
       "    <tr style=\"text-align: right;\">\n",
       "      <th></th>\n",
       "      <th>DataReuniao</th>\n",
       "      <th>DataDeliberacao</th>\n",
       "      <th>Situacao</th>\n",
       "      <th>Assunto</th>\n",
       "      <th>Autor</th>\n",
       "      <th>Proposicao</th>\n",
       "      <th>Ano</th>\n",
       "      <th>Texto</th>\n",
       "    </tr>\n",
       "  </thead>\n",
       "  <tbody>\n",
       "    <tr>\n",
       "      <th>0</th>\n",
       "      <td>2021-02-01</td>\n",
       "      <td>2021-02-01</td>\n",
       "      <td>Proposição Aprovada</td>\n",
       "      <td>Trânsito</td>\n",
       "      <td>Vereador Remir José de Faveri.</td>\n",
       "      <td>1</td>\n",
       "      <td>2021</td>\n",
       "      <td>O vereador que esta subscreve, no uso das atri...</td>\n",
       "    </tr>\n",
       "  </tbody>\n",
       "</table>\n",
       "</div>"
      ],
      "text/plain": [
       "  DataReuniao DataDeliberacao             Situacao   Assunto  \\\n",
       "0  2021-02-01      2021-02-01  Proposição Aprovada  Trânsito   \n",
       "\n",
       "                            Autor  Proposicao   Ano  \\\n",
       "0  Vereador Remir José de Faveri.           1  2021   \n",
       "\n",
       "                                               Texto  \n",
       "0  O vereador que esta subscreve, no uso das atri...  "
      ]
     },
     "execution_count": 30,
     "metadata": {},
     "output_type": "execute_result"
    }
   ],
   "source": [
    "# Para acrescer a próxima proposição sem repetição\n",
    "# Considerando que pode não ter nenhuma proposição ainda\n",
    "\n",
    "# ========= INICIO =========\n",
    "ano = 2021\n",
    "\n",
    "dados_ano = SQLSelect(f'select Proposicao = max(Proposicao) from Proposicoes where Ano = {ano}')\n",
    "ultima_proposicao = dados_ano['Proposicao'].loc[0]\n",
    "\n",
    "\n",
    "# ----- INICIO ALTERAÇÃO ----- \n",
    "if ultima_proposicao == None:\n",
    "    proxima_proposicao = 1\n",
    "else:\n",
    "    proxima_proposicao = int(ultima_proposicao) + 1 \n",
    "# ----- FIM ALTERAÇÃO ----- \n",
    "\n",
    "\n",
    "dados = Conteudo(proxima_proposicao,ano)\n",
    "tabela = pd.DataFrame([dados])\n",
    "SQLInsertProposicoes(tabela)\n",
    "# ========= FIM =========\n",
    "\n",
    "\n",
    "# visualizando dados\n",
    "SQLSelect('select * from Proposicoes')"
   ]
  },
  {
   "cell_type": "code",
   "execution_count": 32,
   "id": "37c58d21",
   "metadata": {},
   "outputs": [],
   "source": [
    "#Função para inserir dados\n",
    "\n",
    "def InsereProximaProposicao (ano):\n",
    "\n",
    "    # Busca última proposição cadastrada\n",
    "    dados_ano = SQLSelect(f'select Proposicao = max(Proposicao) from Proposicoes where Ano = {ano}')\n",
    "    ultima_proposicao = dados_ano['Proposicao'].loc[0]\n",
    "\n",
    "    # Verifica se foi identificado lançamento naquele ano\n",
    "    if ultima_proposicao == None:\n",
    "        proxima_proposicao = 1\n",
    "    else:\n",
    "        proxima_proposicao = int(ultima_proposicao) + 1 \n",
    "\n",
    "    # Captura e Insere dados na tabela\n",
    "    dados = Conteudo(proxima_proposicao,ano)\n",
    "    tabela = pd.DataFrame([dados])\n",
    "    SQLInsertProposicoes(tabela)"
   ]
  },
  {
   "cell_type": "code",
   "execution_count": 33,
   "id": "5bb108e9",
   "metadata": {},
   "outputs": [
    {
     "data": {
      "text/html": [
       "<div>\n",
       "<style scoped>\n",
       "    .dataframe tbody tr th:only-of-type {\n",
       "        vertical-align: middle;\n",
       "    }\n",
       "\n",
       "    .dataframe tbody tr th {\n",
       "        vertical-align: top;\n",
       "    }\n",
       "\n",
       "    .dataframe thead th {\n",
       "        text-align: right;\n",
       "    }\n",
       "</style>\n",
       "<table border=\"1\" class=\"dataframe\">\n",
       "  <thead>\n",
       "    <tr style=\"text-align: right;\">\n",
       "      <th></th>\n",
       "      <th>DataReuniao</th>\n",
       "      <th>DataDeliberacao</th>\n",
       "      <th>Situacao</th>\n",
       "      <th>Assunto</th>\n",
       "      <th>Autor</th>\n",
       "      <th>Proposicao</th>\n",
       "      <th>Ano</th>\n",
       "      <th>Texto</th>\n",
       "    </tr>\n",
       "  </thead>\n",
       "  <tbody>\n",
       "    <tr>\n",
       "      <th>0</th>\n",
       "      <td>2021-02-01</td>\n",
       "      <td>2021-02-01</td>\n",
       "      <td>Proposição Aprovada</td>\n",
       "      <td>Trânsito</td>\n",
       "      <td>Vereador Remir José de Faveri.</td>\n",
       "      <td>1</td>\n",
       "      <td>2021</td>\n",
       "      <td>O vereador que esta subscreve, no uso das atri...</td>\n",
       "    </tr>\n",
       "    <tr>\n",
       "      <th>1</th>\n",
       "      <td>1996-02-22</td>\n",
       "      <td>1996-02-22</td>\n",
       "      <td>Proposição Aprovada</td>\n",
       "      <td>Serviços e Obras</td>\n",
       "      <td>Vereador Henrique Fritz.</td>\n",
       "      <td>1</td>\n",
       "      <td>1996</td>\n",
       "      <td>construção de Escola de 1º grau no Bairro Nova...</td>\n",
       "    </tr>\n",
       "  </tbody>\n",
       "</table>\n",
       "</div>"
      ],
      "text/plain": [
       "  DataReuniao DataDeliberacao             Situacao           Assunto  \\\n",
       "0  2021-02-01      2021-02-01  Proposição Aprovada          Trânsito   \n",
       "1  1996-02-22      1996-02-22  Proposição Aprovada  Serviços e Obras   \n",
       "\n",
       "                            Autor  Proposicao   Ano  \\\n",
       "0  Vereador Remir José de Faveri.           1  2021   \n",
       "1        Vereador Henrique Fritz.           1  1996   \n",
       "\n",
       "                                               Texto  \n",
       "0  O vereador que esta subscreve, no uso das atri...  \n",
       "1  construção de Escola de 1º grau no Bairro Nova...  "
      ]
     },
     "execution_count": 33,
     "metadata": {},
     "output_type": "execute_result"
    }
   ],
   "source": [
    "InsereProximaProposicao(1996)\n",
    "SQLSelect('select * from Proposicoes')"
   ]
  },
  {
   "cell_type": "code",
   "execution_count": 34,
   "id": "eb19e01d",
   "metadata": {},
   "outputs": [
    {
     "data": {
      "text/html": [
       "<div>\n",
       "<style scoped>\n",
       "    .dataframe tbody tr th:only-of-type {\n",
       "        vertical-align: middle;\n",
       "    }\n",
       "\n",
       "    .dataframe tbody tr th {\n",
       "        vertical-align: top;\n",
       "    }\n",
       "\n",
       "    .dataframe thead th {\n",
       "        text-align: right;\n",
       "    }\n",
       "</style>\n",
       "<table border=\"1\" class=\"dataframe\">\n",
       "  <thead>\n",
       "    <tr style=\"text-align: right;\">\n",
       "      <th></th>\n",
       "      <th>DataReuniao</th>\n",
       "      <th>DataDeliberacao</th>\n",
       "      <th>Situacao</th>\n",
       "      <th>Assunto</th>\n",
       "      <th>Autor</th>\n",
       "      <th>Proposicao</th>\n",
       "      <th>Ano</th>\n",
       "      <th>Texto</th>\n",
       "    </tr>\n",
       "  </thead>\n",
       "  <tbody>\n",
       "  </tbody>\n",
       "</table>\n",
       "</div>"
      ],
      "text/plain": [
       "Empty DataFrame\n",
       "Columns: [DataReuniao, DataDeliberacao, Situacao, Assunto, Autor, Proposicao, Ano, Texto]\n",
       "Index: []"
      ]
     },
     "execution_count": 34,
     "metadata": {},
     "output_type": "execute_result"
    }
   ],
   "source": [
    "# Limpando dados da tabela\n",
    "SQLTruncate('Proposicoes')\n",
    "\n",
    "# Visualizando a tabela\n",
    "SQLSelect('select *from Proposicoes')"
   ]
  },
  {
   "cell_type": "code",
   "execution_count": 35,
   "id": "1c3948f8",
   "metadata": {},
   "outputs": [
    {
     "name": "stdout",
     "output_type": "stream",
     "text": [
      "1996\n",
      "1997\n",
      "1998\n",
      "1999\n"
     ]
    }
   ],
   "source": [
    "ano_fim = 1999\n",
    "ano_ini = 1996\n",
    "anos = ano_fim - ano_ini + 1\n",
    "for i in range(anos):\n",
    "    print(i+ano_ini)"
   ]
  },
  {
   "cell_type": "code",
   "execution_count": 36,
   "id": "02d8b033",
   "metadata": {},
   "outputs": [
    {
     "data": {
      "text/plain": [
       "[1996, 1997, 1998, 1999, 2000]"
      ]
     },
     "execution_count": 36,
     "metadata": {},
     "output_type": "execute_result"
    }
   ],
   "source": [
    "list(range(1996, 2000+1))"
   ]
  },
  {
   "cell_type": "code",
   "execution_count": null,
   "id": "d3d6ce24",
   "metadata": {},
   "outputs": [],
   "source": [
    "# Exemplo de Loop -que busca as proposições do ano 1996\n",
    "\n",
    "ano = 1996\n",
    "quantidade = 10\n",
    "erros_admissiveis = 2\n",
    "segundos_espera = 0.3\n",
    "\n",
    "# erros\n",
    "erros = 0\n",
    "\n",
    "# variaveis para loop\n",
    "i = 1\n",
    "lista = []\n",
    "\n",
    "while erros <= erros_admissiveis:\n",
    "\n",
    "    try:\n",
    "        InsereProximaProposicao(ano)\n",
    "    except:\n",
    "        erros += 1\n",
    "        pass\n",
    "\n",
    "    time.sleep(segundos_espera)\n",
    "\n",
    "    # carregamento incremental das variáveis\n",
    "    i +=1"
   ]
  },
  {
   "cell_type": "code",
   "execution_count": 37,
   "id": "faeb6779",
   "metadata": {},
   "outputs": [
    {
     "data": {
      "text/html": [
       "<div>\n",
       "<style scoped>\n",
       "    .dataframe tbody tr th:only-of-type {\n",
       "        vertical-align: middle;\n",
       "    }\n",
       "\n",
       "    .dataframe tbody tr th {\n",
       "        vertical-align: top;\n",
       "    }\n",
       "\n",
       "    .dataframe thead th {\n",
       "        text-align: right;\n",
       "    }\n",
       "</style>\n",
       "<table border=\"1\" class=\"dataframe\">\n",
       "  <thead>\n",
       "    <tr style=\"text-align: right;\">\n",
       "      <th></th>\n",
       "      <th>DataReuniao</th>\n",
       "      <th>DataDeliberacao</th>\n",
       "      <th>Situacao</th>\n",
       "      <th>Assunto</th>\n",
       "      <th>Autor</th>\n",
       "      <th>Proposicao</th>\n",
       "      <th>Ano</th>\n",
       "      <th>Texto</th>\n",
       "    </tr>\n",
       "  </thead>\n",
       "  <tbody>\n",
       "  </tbody>\n",
       "</table>\n",
       "</div>"
      ],
      "text/plain": [
       "Empty DataFrame\n",
       "Columns: [DataReuniao, DataDeliberacao, Situacao, Assunto, Autor, Proposicao, Ano, Texto]\n",
       "Index: []"
      ]
     },
     "execution_count": 37,
     "metadata": {},
     "output_type": "execute_result"
    }
   ],
   "source": [
    "# Limpando dados da tabela\n",
    "SQLTruncate('Proposicoes')\n",
    "\n",
    "# Visualizando a tabela\n",
    "SQLSelect('select * from Proposicoes')"
   ]
  },
  {
   "cell_type": "code",
   "execution_count": 38,
   "id": "b66851b9",
   "metadata": {},
   "outputs": [],
   "source": [
    "# Função que salva no banco e busca a próxima\n",
    "\n",
    "def BuscaGravaDadosAno(ano, quantidade = 10, erros_admissiveis = 2, segundos_espera = 0.5):\n",
    "\n",
    "    # erros\n",
    "    erros = 0\n",
    "\n",
    "    # variaveis para loop\n",
    "    i = 1\n",
    "    lista = []\n",
    "\n",
    "    while erros <= erros_admissiveis:\n",
    "\n",
    "        try:\n",
    "            InsereProximaProposicao(ano)\n",
    "        except:\n",
    "            erros += 1\n",
    "            pass\n",
    "\n",
    "        time.sleep(segundos_espera)\n",
    "\n",
    "        # carregamento incremental das variáveis\n",
    "        i +=1"
   ]
  },
  {
   "cell_type": "code",
   "execution_count": null,
   "id": "6856b774",
   "metadata": {},
   "outputs": [
    {
     "name": "stdout",
     "output_type": "stream",
     "text": [
      "Iniciando gravação dos dados do ano:  1996\n"
     ]
    }
   ],
   "source": [
    "ano_inicial = 1996\n",
    "ano_final = 1997\n",
    "\n",
    "for i in list(range(ano_inicial, ano_final+1)):\n",
    "    print('Iniciando gravação dos dados do ano: ',i)\n",
    "    try:\n",
    "        BuscaGravaDadosAno(i, quantidade = 999999)\n",
    "    except:\n",
    "        pass\n",
    "    \n",
    "print('Inserção finalizada 😁')"
   ]
  },
  {
   "cell_type": "code",
   "execution_count": null,
   "id": "4f274fbe",
   "metadata": {},
   "outputs": [],
   "source": []
  }
 ],
 "metadata": {
  "kernelspec": {
   "display_name": "Python 3 (ipykernel)",
   "language": "python",
   "name": "python3"
  },
  "language_info": {
   "codemirror_mode": {
    "name": "ipython",
    "version": 3
   },
   "file_extension": ".py",
   "mimetype": "text/x-python",
   "name": "python",
   "nbconvert_exporter": "python",
   "pygments_lexer": "ipython3",
   "version": "3.8.10"
  }
 },
 "nbformat": 4,
 "nbformat_minor": 5
}
